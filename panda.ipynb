{
 "cells": [
  {
   "cell_type": "code",
   "execution_count": 1,
   "metadata": {},
   "outputs": [
    {
     "name": "stdout",
     "output_type": "stream",
     "text": [
      "Collecting pandas\n",
      "  Obtaining dependency information for pandas from https://files.pythonhosted.org/packages/11/17/fb1a34f3e73debbc2fd15a01ea17eaab3717943d08463ff4979a4f024b3f/pandas-2.1.4-cp311-cp311-win_amd64.whl.metadata\n",
      "  Downloading pandas-2.1.4-cp311-cp311-win_amd64.whl.metadata (18 kB)\n",
      "Requirement already satisfied: numpy<2,>=1.23.2 in c:\\users\\shree\\appdata\\local\\programs\\python\\python311\\lib\\site-packages (from pandas) (1.26.2)\n",
      "Requirement already satisfied: python-dateutil>=2.8.2 in c:\\users\\shree\\appdata\\roaming\\python\\python311\\site-packages (from pandas) (2.8.2)\n",
      "Collecting pytz>=2020.1 (from pandas)\n",
      "  Obtaining dependency information for pytz>=2020.1 from https://files.pythonhosted.org/packages/32/4d/aaf7eff5deb402fd9a24a1449a8119f00d74ae9c2efa79f8ef9994261fc2/pytz-2023.3.post1-py2.py3-none-any.whl.metadata\n",
      "  Downloading pytz-2023.3.post1-py2.py3-none-any.whl.metadata (22 kB)\n",
      "Collecting tzdata>=2022.1 (from pandas)\n",
      "  Downloading tzdata-2023.3-py2.py3-none-any.whl (341 kB)\n",
      "     ---------------------------------------- 0.0/341.8 kB ? eta -:--:--\n",
      "     --- --------------------------------- 30.7/341.8 kB 660.6 kB/s eta 0:00:01\n",
      "     ------------- ------------------------ 122.9/341.8 kB 1.4 MB/s eta 0:00:01\n",
      "     ------------------------- ------------ 225.3/341.8 kB 1.7 MB/s eta 0:00:01\n",
      "     -------------------------------------- 341.8/341.8 kB 2.1 MB/s eta 0:00:00\n",
      "Requirement already satisfied: six>=1.5 in c:\\users\\shree\\appdata\\roaming\\python\\python311\\site-packages (from python-dateutil>=2.8.2->pandas) (1.16.0)\n",
      "Downloading pandas-2.1.4-cp311-cp311-win_amd64.whl (10.6 MB)\n",
      "   ---------------------------------------- 0.0/10.6 MB ? eta -:--:--\n",
      "   - -------------------------------------- 0.4/10.6 MB 12.2 MB/s eta 0:00:01\n",
      "   --- ------------------------------------ 0.9/10.6 MB 11.6 MB/s eta 0:00:01\n",
      "   ----- ---------------------------------- 1.5/10.6 MB 11.6 MB/s eta 0:00:01\n",
      "   ------- -------------------------------- 2.0/10.6 MB 12.7 MB/s eta 0:00:01\n",
      "   ----------- ---------------------------- 3.1/10.6 MB 14.1 MB/s eta 0:00:01\n",
      "   ---------------- ----------------------- 4.3/10.6 MB 16.3 MB/s eta 0:00:01\n",
      "   --------------------- ------------------ 5.7/10.6 MB 17.4 MB/s eta 0:00:01\n",
      "   ------------------------- -------------- 6.7/10.6 MB 18.5 MB/s eta 0:00:01\n",
      "   ----------------------------- ---------- 7.8/10.6 MB 19.3 MB/s eta 0:00:01\n",
      "   ------------------------------- -------- 8.3/10.6 MB 19.7 MB/s eta 0:00:01\n",
      "   ------------------------------- -------- 8.3/10.6 MB 19.7 MB/s eta 0:00:01\n",
      "   ---------------------------------------  10.6/10.6 MB 21.1 MB/s eta 0:00:01\n",
      "   ---------------------------------------- 10.6/10.6 MB 18.7 MB/s eta 0:00:00\n",
      "Downloading pytz-2023.3.post1-py2.py3-none-any.whl (502 kB)\n",
      "   ---------------------------------------- 0.0/502.5 kB ? eta -:--:--\n",
      "   --------------------------------------- 502.5/502.5 kB 15.9 MB/s eta 0:00:00\n",
      "Installing collected packages: pytz, tzdata, pandas\n",
      "Successfully installed pandas-2.1.4 pytz-2023.3.post1 tzdata-2023.3\n",
      "Note: you may need to restart the kernel to use updated packages.\n"
     ]
    },
    {
     "name": "stderr",
     "output_type": "stream",
     "text": [
      "\n",
      "[notice] A new release of pip is available: 23.2.1 -> 23.3.2\n",
      "[notice] To update, run: python.exe -m pip install --upgrade pip\n"
     ]
    }
   ],
   "source": [
    "pip install pandas"
   ]
  },
  {
   "cell_type": "code",
   "execution_count": 2,
   "metadata": {},
   "outputs": [
    {
     "data": {
      "text/plain": [
       "'2.1.4'"
      ]
     },
     "execution_count": 2,
     "metadata": {},
     "output_type": "execute_result"
    }
   ],
   "source": [
    "import pandas as pd\n",
    "\n",
    "pd.__version__"
   ]
  },
  {
   "cell_type": "code",
   "execution_count": 3,
   "metadata": {},
   "outputs": [
    {
     "name": "stdout",
     "output_type": "stream",
     "text": [
      "0     1\n",
      "1     5\n",
      "2    10\n",
      "dtype: int64\n"
     ]
    }
   ],
   "source": [
    "a = [1,5,10]\n",
    "\n",
    "m1 = pd.Series(a)\n",
    "print(m1)"
   ]
  },
  {
   "cell_type": "code",
   "execution_count": 4,
   "metadata": {},
   "outputs": [
    {
     "name": "stdout",
     "output_type": "stream",
     "text": [
      "10\n"
     ]
    }
   ],
   "source": [
    "print(m1[2])"
   ]
  },
  {
   "cell_type": "code",
   "execution_count": 5,
   "metadata": {},
   "outputs": [],
   "source": [
    "m1 = pd.Series(a,index=[\"a\",\"b\",\"c\"])"
   ]
  },
  {
   "cell_type": "code",
   "execution_count": 6,
   "metadata": {},
   "outputs": [
    {
     "name": "stdout",
     "output_type": "stream",
     "text": [
      "a     1\n",
      "b     5\n",
      "c    10\n",
      "dtype: int64\n"
     ]
    }
   ],
   "source": [
    "print(m1)"
   ]
  },
  {
   "cell_type": "code",
   "execution_count": 7,
   "metadata": {},
   "outputs": [
    {
     "name": "stdout",
     "output_type": "stream",
     "text": [
      "{'day1': 1200, 'day2': 1500, 'day3': 1800}\n",
      "day1    1200\n",
      "day2    1500\n",
      "day3    1800\n",
      "dtype: int64\n"
     ]
    }
   ],
   "source": [
    "calories = {\"day1\":1200,\"day2\":1500,\"day3\":1800}\n",
    "print(calories)\n",
    "\n",
    "caldata = pd.Series(calories)\n",
    "print(caldata)"
   ]
  },
  {
   "cell_type": "code",
   "execution_count": 9,
   "metadata": {},
   "outputs": [
    {
     "name": "stdout",
     "output_type": "stream",
     "text": [
      "day1    1200\n",
      "day2    1500\n",
      "dtype: int64\n"
     ]
    }
   ],
   "source": [
    "caldata1 = pd.Series(calories,index=[\"day1\",\"day2\"])\n",
    "print(caldata1)"
   ]
  },
  {
   "cell_type": "code",
   "execution_count": 10,
   "metadata": {},
   "outputs": [
    {
     "name": "stdout",
     "output_type": "stream",
     "text": [
      "   prices stocks\n",
      "0    1000   AAPL\n",
      "1    2000  GOOGL\n",
      "2    3000   MSFT\n"
     ]
    }
   ],
   "source": [
    "data = {\n",
    "    \"prices\":[1000,2000,3000],\n",
    "    \"stocks\":[\"AAPL\",\"GOOGL\", \"MSFT\"]\n",
    "}\n",
    "\n",
    "d1 = pd.DataFrame(data)\n",
    "print(d1)"
   ]
  },
  {
   "cell_type": "code",
   "execution_count": null,
   "metadata": {},
   "outputs": [],
   "source": []
  }
 ],
 "metadata": {
  "kernelspec": {
   "display_name": "Python 3",
   "language": "python",
   "name": "python3"
  },
  "language_info": {
   "codemirror_mode": {
    "name": "ipython",
    "version": 3
   },
   "file_extension": ".py",
   "mimetype": "text/x-python",
   "name": "python",
   "nbconvert_exporter": "python",
   "pygments_lexer": "ipython3",
   "version": "3.11.5"
  }
 },
 "nbformat": 4,
 "nbformat_minor": 2
}
